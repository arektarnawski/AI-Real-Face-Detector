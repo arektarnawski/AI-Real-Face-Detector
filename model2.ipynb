{
 "cells": [
  {
   "cell_type": "code",
   "execution_count": 28,
   "id": "fb75c94e-7a5b-4441-91f4-fe08b8df55a0",
   "metadata": {},
   "outputs": [],
   "source": [
    "from keras.models import Sequential \n",
    "from keras.layers import Conv2D,MaxPool2D,Flatten,Dense,Dropout\n",
    "from keras.preprocessing.image import ImageDataGenerator\n",
    "from tensorflow.keras.optimizers import Adam\n",
    "from tensorflow.keras.utils import to_categorical"
   ]
  },
  {
   "cell_type": "code",
   "execution_count": 29,
   "id": "9d485fff-be18-4ea2-adb7-a05e614d09b0",
   "metadata": {},
   "outputs": [
    {
     "name": "stdout",
     "output_type": "stream",
     "text": [
      "Model: \"sequential_2\"\n",
      "_________________________________________________________________\n",
      " Layer (type)                Output Shape              Param #   \n",
      "=================================================================\n",
      " conv2d_6 (Conv2D)           (None, 200, 200, 32)      896       \n",
      "                                                                 \n",
      " max_pooling2d_6 (MaxPooling  (None, 100, 100, 32)     0         \n",
      " 2D)                                                             \n",
      "                                                                 \n",
      " dropout_8 (Dropout)         (None, 100, 100, 32)      0         \n",
      "                                                                 \n",
      " conv2d_7 (Conv2D)           (None, 100, 100, 64)      18496     \n",
      "                                                                 \n",
      " max_pooling2d_7 (MaxPooling  (None, 50, 50, 64)       0         \n",
      " 2D)                                                             \n",
      "                                                                 \n",
      " dropout_9 (Dropout)         (None, 50, 50, 64)        0         \n",
      "                                                                 \n",
      " conv2d_8 (Conv2D)           (None, 50, 50, 128)       73856     \n",
      "                                                                 \n",
      " max_pooling2d_8 (MaxPooling  (None, 25, 25, 128)      0         \n",
      " 2D)                                                             \n",
      "                                                                 \n",
      " dropout_10 (Dropout)        (None, 25, 25, 128)       0         \n",
      "                                                                 \n",
      " flatten_2 (Flatten)         (None, 80000)             0         \n",
      "                                                                 \n",
      " dense_4 (Dense)             (None, 128)               10240128  \n",
      "                                                                 \n",
      " dropout_11 (Dropout)        (None, 128)               0         \n",
      "                                                                 \n",
      " dense_5 (Dense)             (None, 1)                 129       \n",
      "                                                                 \n",
      "=================================================================\n",
      "Total params: 10,333,505\n",
      "Trainable params: 10,333,505\n",
      "Non-trainable params: 0\n",
      "_________________________________________________________________\n"
     ]
    }
   ],
   "source": [
    "# Model structure credited to Gourav Bais\n",
    "# https://medium.com/analytics-vidhya/fake-face-image-classification-5a4151db9b8d\n",
    "\n",
    "model = Sequential()\n",
    "\n",
    "model.add(Conv2D(32,(3,3),input_shape = (200,200,3),activation = 'relu',padding='same',))\n",
    "model.add(MaxPool2D(pool_size=(2,2)))\n",
    "model.add(Dropout(0.2))\n",
    "\n",
    "model.add(Conv2D(64, (3, 3), activation='relu', padding='same'))\n",
    "model.add(MaxPool2D((2, 2)))\n",
    "model.add(Dropout(0.2))\n",
    "\n",
    "model.add(Conv2D(128, (3, 3), activation='relu', padding='same'))\n",
    "model.add(MaxPool2D((2, 2)))\n",
    "model.add(Dropout(0.2))\n",
    "\n",
    "model.add(Flatten())\n",
    "\n",
    "model.add(Dense(128, activation='relu'))\n",
    "model.add(Dropout(0.5))\n",
    "model.add(Dense(1, activation='sigmoid'))\n",
    "\n",
    "model.compile(optimizer = 'adam',loss = 'binary_crossentropy',metrics = ['accuracy'])\n",
    "\n",
    "model.summary()"
   ]
  },
  {
   "cell_type": "code",
   "execution_count": null,
   "id": "72cc418f-0acb-4bc8-b77d-2c4f8cd079fb",
   "metadata": {},
   "outputs": [
    {
     "name": "stdout",
     "output_type": "stream",
     "text": [
      "Found 16000 images belonging to 2 classes.\n",
      "Found 4000 images belonging to 2 classes.\n"
     ]
    }
   ],
   "source": [
    "\n",
    "dataset = \"./data3/\"\n",
    "datagen = ImageDataGenerator(horizontal_flip=True,\n",
    "                                     vertical_flip=False,\n",
    "                                     validation_split=0.2,\n",
    "                                     rescale=1/255)\n",
    "\n",
    "train = datagen.flow_from_directory(dataset,\n",
    "                                    class_mode='binary',\n",
    "                                    batch_size=64,\n",
    "                                    target_size=(200,200),\n",
    "                                    subset=\"training\")\n",
    "\n",
    "test = datagen.flow_from_directory(dataset,\n",
    "                                    class_mode='binary',\n",
    "                                    batch_size=64,\n",
    "                                    target_size=(200,200),\n",
    "                                    subset=\"validation\")\n"
   ]
  },
  {
   "cell_type": "code",
   "execution_count": 31,
   "id": "2745e02d-f90b-4471-afa2-9ed3fcf3f3eb",
   "metadata": {
    "tags": []
   },
   "outputs": [
    {
     "name": "stdout",
     "output_type": "stream",
     "text": [
      "Epoch 1/5\n",
      "250/250 [==============================] - 688s 3s/step - loss: 0.3368 - accuracy: 0.8416 - val_loss: 0.1996 - val_accuracy: 0.9302\n",
      "Epoch 2/5\n",
      "250/250 [==============================] - 726s 3s/step - loss: 0.1282 - accuracy: 0.9471 - val_loss: 0.1808 - val_accuracy: 0.9285\n",
      "Epoch 3/5\n",
      "250/250 [==============================] - 779s 3s/step - loss: 0.0936 - accuracy: 0.9590 - val_loss: 0.0939 - val_accuracy: 0.9682\n",
      "Epoch 4/5\n",
      "250/250 [==============================] - 710s 3s/step - loss: 0.0871 - accuracy: 0.9650 - val_loss: 0.0691 - val_accuracy: 0.9762\n",
      "Epoch 5/5\n",
      "250/250 [==============================] - 759s 3s/step - loss: 0.0681 - accuracy: 0.9736 - val_loss: 0.0634 - val_accuracy: 0.9783\n"
     ]
    }
   ],
   "source": [
    "history = model.fit(train,\n",
    "                      validation_data=test,\n",
    "                      epochs = 5,\n",
    "                      steps_per_epoch=len(train),\n",
    "                      validation_steps=len(test))"
   ]
  },
  {
   "cell_type": "code",
   "execution_count": 33,
   "id": "be9726ad-cbb6-4162-9c0e-c3f490450450",
   "metadata": {
    "tags": []
   },
   "outputs": [
    {
     "name": "stderr",
     "output_type": "stream",
     "text": [
      "2021-12-14 12:31:39.977 Assets written to: model_neural/assets\n"
     ]
    }
   ],
   "source": [
    "# Trying with predictor\n",
    "\n",
    "model.save('model_neural')"
   ]
  }
 ],
 "metadata": {
  "kernelspec": {
   "display_name": "Python 3 (ipykernel)",
   "language": "python",
   "name": "python3"
  },
  "language_info": {
   "codemirror_mode": {
    "name": "ipython",
    "version": 3
   },
   "file_extension": ".py",
   "mimetype": "text/x-python",
   "name": "python",
   "nbconvert_exporter": "python",
   "pygments_lexer": "ipython3",
   "version": "3.8.8"
  }
 },
 "nbformat": 4,
 "nbformat_minor": 5
}
